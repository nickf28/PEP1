{
 "cells": [
  {
   "cell_type": "code",
   "execution_count": 2,
   "metadata": {},
   "outputs": [],
   "source": [
    "import pandas as pd\n",
    "import yaml\n",
    "import sqlite3\n",
    "import numpy as np"
   ]
  },
  {
   "cell_type": "code",
   "execution_count": 3,
   "metadata": {},
   "outputs": [],
   "source": [
    "orders_df = pd.read_csv(\"orders.csv\")\n",
    "customer_stats_df = pd.read_csv(\"customer_statistics.csv\")\n",
    "\n",
    "with open(\"customer_demographics.yaml\", \"r\") as file:\n",
    "    data = yaml.safe_load(file)\n",
    "\n",
    "cd_df = pd.DataFrame.from_dict(data, orient=\"index\")"
   ]
  },
  {
   "cell_type": "code",
   "execution_count": null,
   "metadata": {},
   "outputs": [],
   "source": [
    "#orders_df outliers\n",
    "orders_df_outliers = orders_df[np.abs(orders_df['total'] - orders_df['total'].mean()) > 1.5 * orders_df['total'].std()]\n",
    "\n",
    "#customer_stats_df\n",
    "customer_stats_df_outliers = customer_stats_df[np.abs(customer_stats_df['total_orders'] - customer_stats_df['total_orders'].mean()) > 1.5 * customer_stats_df['total_orders'].std()]\n",
    "\n",
    "#total items_outliers\n",
    "total_items_outliers = customer_stats_df[np.abs(customer_stats_df['total_items'] - customer_stats_df['total_items'].mean()) > 1.5 * customer_stats_df['total_items'].std()]\n",
    "\n",
    "#total spent_outliers\n",
    "total_spent_outliers = customer_stats_df[np.abs(customer_stats_df['total_spent'] - customer_stats_df['total_spent'].mean()) > 1.5 * customer_stats_df['total_spent'].std()]\n",
    "\n",
    "\n",
    "print(orders_df_outliers)\n",
    "print(customer_stats_df_outliers)\n",
    "print(total_items_outliers)\n",
    "print(total_spent_outliers)"
   ]
  },
  {
   "cell_type": "code",
   "execution_count": 5,
   "metadata": {},
   "outputs": [],
   "source": [
    "orders_df.dropna(inplace=True)\n",
    "orders_df.drop_duplicates(inplace=True)\n",
    "\n",
    "cd_df.dropna(inplace=True, subset=\"customer_id\")\n",
    "cd_df.drop_duplicates(inplace=True, subset=\"customer_id\")"
   ]
  },
  {
   "cell_type": "code",
   "execution_count": null,
   "metadata": {},
   "outputs": [],
   "source": [
    "merged = pd.merge(customer_stats_df, cd_df, left_index=True, right_index=True)\n",
    "\n",
    "merged.drop_duplicates(inplace=True, subset=\"customer_id_x\")\n",
    "merged"
   ]
  },
  {
   "cell_type": "code",
   "execution_count": null,
   "metadata": {},
   "outputs": [],
   "source": [
    "all_merged_data = pd.merge(merged, orders_df, left_on='customer_id_x', right_on='customer_id')\n",
    "all_merged_data"
   ]
  },
  {
   "cell_type": "markdown",
   "metadata": {},
   "source": [
    "## DATABASE STUFF"
   ]
  },
  {
   "cell_type": "code",
   "execution_count": 12,
   "metadata": {},
   "outputs": [],
   "source": [
    "conn = sqlite3.connect(\"restaurant.db\")\n",
    "\n",
    "cursor = conn.cursor()"
   ]
  },
  {
   "cell_type": "code",
   "execution_count": 13,
   "metadata": {},
   "outputs": [
    {
     "data": {
      "text/plain": [
       "<sqlite3.Cursor at 0x29a56bb00c0>"
      ]
     },
     "execution_count": 13,
     "metadata": {},
     "output_type": "execute_result"
    }
   ],
   "source": [
    "customers_stats_table = \"\"\"\n",
    "create table customer_stats(\n",
    "    customer_index integer primary key autoincrement,\n",
    "    customer_id integer,\n",
    "    total_orders integer,\n",
    "    total_items integer,\n",
    "    total_spent real\n",
    ")\n",
    "\"\"\"\n",
    "\n",
    "cursor.execute(customers_stats_table)"
   ]
  },
  {
   "cell_type": "code",
   "execution_count": 14,
   "metadata": {},
   "outputs": [
    {
     "data": {
      "text/plain": [
       "<sqlite3.Cursor at 0x29a56bb00c0>"
      ]
     },
     "execution_count": 14,
     "metadata": {},
     "output_type": "execute_result"
    }
   ],
   "source": [
    "customer_stats_cols = merged.iloc[:, :4]\n",
    "customer_stats_data_as_list = [tuple(entry) for entry in customer_stats_cols.values]\n",
    "\n",
    "cursor.executemany(\"insert into customer_stats(customer_id, total_orders, total_items, total_spent) values (?, ?, ?, ?)\", customer_stats_data_as_list)"
   ]
  },
  {
   "cell_type": "code",
   "execution_count": 15,
   "metadata": {},
   "outputs": [
    {
     "data": {
      "text/plain": [
       "<sqlite3.Cursor at 0x29a56bb00c0>"
      ]
     },
     "execution_count": 15,
     "metadata": {},
     "output_type": "execute_result"
    }
   ],
   "source": [
    "orders_table = \"\"\"\n",
    "create table orders(\n",
    "    order_id text primary key,\n",
    "    customer_id integer,\n",
    "    item integer,\n",
    "    aperitifs text,\n",
    "    appetizers text,\n",
    "    entrees text,\n",
    "    desserts text,\n",
    "    total real,\n",
    "    foreign key(customer_id) references customer_stats(customer_id)\n",
    ")\n",
    "\"\"\"\n",
    "\n",
    "cursor.execute(orders_table)"
   ]
  },
  {
   "cell_type": "code",
   "execution_count": 16,
   "metadata": {},
   "outputs": [
    {
     "data": {
      "text/plain": [
       "<sqlite3.Cursor at 0x29a56bb00c0>"
      ]
     },
     "execution_count": 16,
     "metadata": {},
     "output_type": "execute_result"
    }
   ],
   "source": [
    "orders_data_as_list = [tuple(entry) for entry in orders_df.values]\n",
    "\n",
    "cursor.executemany(\"insert into orders values (?, ?, ?, ?, ?, ?, ?, ?)\", orders_data_as_list)"
   ]
  },
  {
   "cell_type": "code",
   "execution_count": 17,
   "metadata": {},
   "outputs": [
    {
     "data": {
      "text/plain": [
       "<sqlite3.Cursor at 0x29a56bb00c0>"
      ]
     },
     "execution_count": 17,
     "metadata": {},
     "output_type": "execute_result"
    }
   ],
   "source": [
    "customer_demographics_table = \"\"\"\n",
    "create table customer_demographics(\n",
    "    customer_index integer primary key,\n",
    "    address text,\n",
    "    city text,\n",
    "    credit_card_expires text,\n",
    "    credit_card_number integer,\n",
    "    credit_card_provider text,\n",
    "    credit_card_security_code integer,\n",
    "    customer_id text,\n",
    "    email text,\n",
    "    name text,\n",
    "    phone_number text,\n",
    "    state text,\n",
    "    zip_code integer,\n",
    "    foreign key(customer_index) references customer_stats(customer_index)\n",
    ")\n",
    "\"\"\"\n",
    "\n",
    "cursor.execute(customer_demographics_table)"
   ]
  },
  {
   "cell_type": "code",
   "execution_count": 18,
   "metadata": {},
   "outputs": [
    {
     "data": {
      "text/plain": [
       "<sqlite3.Cursor at 0x29a56bb00c0>"
      ]
     },
     "execution_count": 18,
     "metadata": {},
     "output_type": "execute_result"
    }
   ],
   "source": [
    "demographic_cols = merged.iloc[:, 4:]\n",
    "demographic_data_as_list = [tuple(entry) for entry in demographic_cols.values]\n",
    "\n",
    "cursor.executemany(\"\"\"insert into customer_demographics(address, city, credit_card_expires, credit_card_number, credit_card_provider, \n",
    "                   credit_card_security_code, customer_id, email, name, phone_number, state, zip_code) \n",
    "                   values (?, ?, ?, ?, ?, ?, ?, ?, ?, ?, ?, ?)\"\"\", demographic_data_as_list)"
   ]
  },
  {
   "cell_type": "code",
   "execution_count": 19,
   "metadata": {},
   "outputs": [],
   "source": [
    "conn.commit()\n",
    "conn.close()"
   ]
  }
 ],
 "metadata": {
  "kernelspec": {
   "display_name": "Python 3",
   "language": "python",
   "name": "python3"
  },
  "language_info": {
   "codemirror_mode": {
    "name": "ipython",
    "version": 3
   },
   "file_extension": ".py",
   "mimetype": "text/x-python",
   "name": "python",
   "nbconvert_exporter": "python",
   "pygments_lexer": "ipython3",
   "version": "3.11.1"
  }
 },
 "nbformat": 4,
 "nbformat_minor": 2
}
